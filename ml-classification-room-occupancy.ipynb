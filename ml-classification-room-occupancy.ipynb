{
 "cells": [
  {
   "cell_type": "code",
   "execution_count": 1,
   "id": "d109f09b",
   "metadata": {
    "_cell_guid": "b1076dfc-b9ad-4769-8c92-a6c4dae69d19",
    "_uuid": "8f2839f25d086af736a60e9eeb907d3b93b6e0e5",
    "execution": {
     "iopub.execute_input": "2023-08-15T08:07:15.126689Z",
     "iopub.status.busy": "2023-08-15T08:07:15.126308Z",
     "iopub.status.idle": "2023-08-15T08:07:15.153735Z",
     "shell.execute_reply": "2023-08-15T08:07:15.152197Z"
    },
    "papermill": {
     "duration": 0.043424,
     "end_time": "2023-08-15T08:07:15.156118",
     "exception": false,
     "start_time": "2023-08-15T08:07:15.112694",
     "status": "completed"
    },
    "tags": []
   },
   "outputs": [
    {
     "name": "stdout",
     "output_type": "stream",
     "text": [
      "/kaggle/input/room-occupancy-detection-data-iot-sensor/Occupancy.csv\n"
     ]
    }
   ],
   "source": [
    "# This Python 3 environment comes with many helpful analytics libraries installed\n",
    "# It is defined by the kaggle/python Docker image: https://github.com/kaggle/docker-python\n",
    "# For example, here's several helpful packages to load\n",
    "\n",
    "import numpy as np # linear algebra\n",
    "import pandas as pd # data processing, CSV file I/O (e.g. pd.read_csv)\n",
    "\n",
    "# Input data files are available in the read-only \"../input/\" directory\n",
    "# For example, running this (by clicking run or pressing Shift+Enter) will list all files under the input directory\n",
    "\n",
    "import os\n",
    "for dirname, _, filenames in os.walk('/kaggle/input'):\n",
    "    for filename in filenames:\n",
    "        print(os.path.join(dirname, filename))\n",
    "\n",
    "# You can write up to 20GB to the current directory (/kaggle/working/) that gets preserved as output when you create a version using \"Save & Run All\" \n",
    "# You can also write temporary files to /kaggle/temp/, but they won't be saved outside of the current session"
   ]
  },
  {
   "cell_type": "code",
   "execution_count": 2,
   "id": "25043f44",
   "metadata": {
    "execution": {
     "iopub.execute_input": "2023-08-15T08:07:15.181944Z",
     "iopub.status.busy": "2023-08-15T08:07:15.181102Z",
     "iopub.status.idle": "2023-08-15T08:07:15.269595Z",
     "shell.execute_reply": "2023-08-15T08:07:15.268448Z"
    },
    "papermill": {
     "duration": 0.104576,
     "end_time": "2023-08-15T08:07:15.272357",
     "exception": false,
     "start_time": "2023-08-15T08:07:15.167781",
     "status": "completed"
    },
    "tags": []
   },
   "outputs": [
    {
     "data": {
      "text/html": [
       "<div>\n",
       "<style scoped>\n",
       "    .dataframe tbody tr th:only-of-type {\n",
       "        vertical-align: middle;\n",
       "    }\n",
       "\n",
       "    .dataframe tbody tr th {\n",
       "        vertical-align: top;\n",
       "    }\n",
       "\n",
       "    .dataframe thead th {\n",
       "        text-align: right;\n",
       "    }\n",
       "</style>\n",
       "<table border=\"1\" class=\"dataframe\">\n",
       "  <thead>\n",
       "    <tr style=\"text-align: right;\">\n",
       "      <th></th>\n",
       "      <th>date</th>\n",
       "      <th>Temperature</th>\n",
       "      <th>Humidity</th>\n",
       "      <th>Light</th>\n",
       "      <th>CO2</th>\n",
       "      <th>HumidityRatio</th>\n",
       "      <th>Occupancy</th>\n",
       "    </tr>\n",
       "  </thead>\n",
       "  <tbody>\n",
       "    <tr>\n",
       "      <th>0</th>\n",
       "      <td>2015-02-02 14:19:00</td>\n",
       "      <td>23.7000</td>\n",
       "      <td>26.272</td>\n",
       "      <td>585.200000</td>\n",
       "      <td>749.200000</td>\n",
       "      <td>0.004764</td>\n",
       "      <td>1</td>\n",
       "    </tr>\n",
       "    <tr>\n",
       "      <th>1</th>\n",
       "      <td>2015-02-02 14:19:59</td>\n",
       "      <td>23.7180</td>\n",
       "      <td>26.290</td>\n",
       "      <td>578.400000</td>\n",
       "      <td>760.400000</td>\n",
       "      <td>0.004773</td>\n",
       "      <td>1</td>\n",
       "    </tr>\n",
       "    <tr>\n",
       "      <th>2</th>\n",
       "      <td>2015-02-02 14:21:00</td>\n",
       "      <td>23.7300</td>\n",
       "      <td>26.230</td>\n",
       "      <td>572.666667</td>\n",
       "      <td>769.666667</td>\n",
       "      <td>0.004765</td>\n",
       "      <td>1</td>\n",
       "    </tr>\n",
       "    <tr>\n",
       "      <th>3</th>\n",
       "      <td>2015-02-02 14:22:00</td>\n",
       "      <td>23.7225</td>\n",
       "      <td>26.125</td>\n",
       "      <td>493.750000</td>\n",
       "      <td>774.750000</td>\n",
       "      <td>0.004744</td>\n",
       "      <td>1</td>\n",
       "    </tr>\n",
       "    <tr>\n",
       "      <th>4</th>\n",
       "      <td>2015-02-02 14:23:00</td>\n",
       "      <td>23.7540</td>\n",
       "      <td>26.200</td>\n",
       "      <td>488.600000</td>\n",
       "      <td>779.000000</td>\n",
       "      <td>0.004767</td>\n",
       "      <td>1</td>\n",
       "    </tr>\n",
       "  </tbody>\n",
       "</table>\n",
       "</div>"
      ],
      "text/plain": [
       "                  date  Temperature  Humidity       Light         CO2  \\\n",
       "0  2015-02-02 14:19:00      23.7000    26.272  585.200000  749.200000   \n",
       "1  2015-02-02 14:19:59      23.7180    26.290  578.400000  760.400000   \n",
       "2  2015-02-02 14:21:00      23.7300    26.230  572.666667  769.666667   \n",
       "3  2015-02-02 14:22:00      23.7225    26.125  493.750000  774.750000   \n",
       "4  2015-02-02 14:23:00      23.7540    26.200  488.600000  779.000000   \n",
       "\n",
       "   HumidityRatio  Occupancy  \n",
       "0       0.004764          1  \n",
       "1       0.004773          1  \n",
       "2       0.004765          1  \n",
       "3       0.004744          1  \n",
       "4       0.004767          1  "
      ]
     },
     "execution_count": 2,
     "metadata": {},
     "output_type": "execute_result"
    }
   ],
   "source": [
    "import pandas as pd\n",
    "df =pd.read_csv('/kaggle/input/room-occupancy-detection-data-iot-sensor/Occupancy.csv')\n",
    "df.head()"
   ]
  },
  {
   "cell_type": "markdown",
   "id": "27b98aae",
   "metadata": {
    "papermill": {
     "duration": 0.011153,
     "end_time": "2023-08-15T08:07:15.294935",
     "exception": false,
     "start_time": "2023-08-15T08:07:15.283782",
     "status": "completed"
    },
    "tags": []
   },
   "source": [
    "### EDA"
   ]
  },
  {
   "cell_type": "code",
   "execution_count": 3,
   "id": "fec6e855",
   "metadata": {
    "execution": {
     "iopub.execute_input": "2023-08-15T08:07:15.320282Z",
     "iopub.status.busy": "2023-08-15T08:07:15.319623Z",
     "iopub.status.idle": "2023-08-15T08:07:15.351947Z",
     "shell.execute_reply": "2023-08-15T08:07:15.350641Z"
    },
    "papermill": {
     "duration": 0.048325,
     "end_time": "2023-08-15T08:07:15.354719",
     "exception": false,
     "start_time": "2023-08-15T08:07:15.306394",
     "status": "completed"
    },
    "tags": []
   },
   "outputs": [
    {
     "name": "stdout",
     "output_type": "stream",
     "text": [
      "<class 'pandas.core.frame.DataFrame'>\n",
      "RangeIndex: 20560 entries, 0 to 20559\n",
      "Data columns (total 7 columns):\n",
      " #   Column         Non-Null Count  Dtype  \n",
      "---  ------         --------------  -----  \n",
      " 0   date           20560 non-null  object \n",
      " 1   Temperature    20560 non-null  float64\n",
      " 2   Humidity       20560 non-null  float64\n",
      " 3   Light          20560 non-null  float64\n",
      " 4   CO2            20560 non-null  float64\n",
      " 5   HumidityRatio  20560 non-null  float64\n",
      " 6   Occupancy      20560 non-null  int64  \n",
      "dtypes: float64(5), int64(1), object(1)\n",
      "memory usage: 1.1+ MB\n"
     ]
    }
   ],
   "source": [
    "df.info()"
   ]
  },
  {
   "cell_type": "code",
   "execution_count": 4,
   "id": "aad858d5",
   "metadata": {
    "execution": {
     "iopub.execute_input": "2023-08-15T08:07:15.381977Z",
     "iopub.status.busy": "2023-08-15T08:07:15.381548Z",
     "iopub.status.idle": "2023-08-15T08:07:15.397010Z",
     "shell.execute_reply": "2023-08-15T08:07:15.396167Z"
    },
    "papermill": {
     "duration": 0.031103,
     "end_time": "2023-08-15T08:07:15.399171",
     "exception": false,
     "start_time": "2023-08-15T08:07:15.368068",
     "status": "completed"
    },
    "tags": []
   },
   "outputs": [
    {
     "data": {
      "text/plain": [
       "date             0\n",
       "Temperature      0\n",
       "Humidity         0\n",
       "Light            0\n",
       "CO2              0\n",
       "HumidityRatio    0\n",
       "Occupancy        0\n",
       "dtype: int64"
      ]
     },
     "execution_count": 4,
     "metadata": {},
     "output_type": "execute_result"
    }
   ],
   "source": [
    "df.isnull().sum()"
   ]
  },
  {
   "cell_type": "code",
   "execution_count": 5,
   "id": "b15b85e0",
   "metadata": {
    "execution": {
     "iopub.execute_input": "2023-08-15T08:07:15.424783Z",
     "iopub.status.busy": "2023-08-15T08:07:15.424198Z",
     "iopub.status.idle": "2023-08-15T08:07:15.460710Z",
     "shell.execute_reply": "2023-08-15T08:07:15.459356Z"
    },
    "papermill": {
     "duration": 0.052088,
     "end_time": "2023-08-15T08:07:15.463118",
     "exception": false,
     "start_time": "2023-08-15T08:07:15.411030",
     "status": "completed"
    },
    "tags": []
   },
   "outputs": [
    {
     "data": {
      "text/html": [
       "<div>\n",
       "<style scoped>\n",
       "    .dataframe tbody tr th:only-of-type {\n",
       "        vertical-align: middle;\n",
       "    }\n",
       "\n",
       "    .dataframe tbody tr th {\n",
       "        vertical-align: top;\n",
       "    }\n",
       "\n",
       "    .dataframe thead th {\n",
       "        text-align: right;\n",
       "    }\n",
       "</style>\n",
       "<table border=\"1\" class=\"dataframe\">\n",
       "  <thead>\n",
       "    <tr style=\"text-align: right;\">\n",
       "      <th></th>\n",
       "      <th>Temperature</th>\n",
       "      <th>Humidity</th>\n",
       "      <th>Light</th>\n",
       "      <th>CO2</th>\n",
       "      <th>HumidityRatio</th>\n",
       "      <th>Occupancy</th>\n",
       "    </tr>\n",
       "  </thead>\n",
       "  <tbody>\n",
       "    <tr>\n",
       "      <th>count</th>\n",
       "      <td>20560.000000</td>\n",
       "      <td>20560.000000</td>\n",
       "      <td>20560.000000</td>\n",
       "      <td>20560.000000</td>\n",
       "      <td>20560.000000</td>\n",
       "      <td>20560.000000</td>\n",
       "    </tr>\n",
       "    <tr>\n",
       "      <th>mean</th>\n",
       "      <td>20.906212</td>\n",
       "      <td>27.655925</td>\n",
       "      <td>130.756622</td>\n",
       "      <td>690.553276</td>\n",
       "      <td>0.004228</td>\n",
       "      <td>0.231031</td>\n",
       "    </tr>\n",
       "    <tr>\n",
       "      <th>std</th>\n",
       "      <td>1.055315</td>\n",
       "      <td>4.982154</td>\n",
       "      <td>210.430875</td>\n",
       "      <td>311.201281</td>\n",
       "      <td>0.000768</td>\n",
       "      <td>0.421503</td>\n",
       "    </tr>\n",
       "    <tr>\n",
       "      <th>min</th>\n",
       "      <td>19.000000</td>\n",
       "      <td>16.745000</td>\n",
       "      <td>0.000000</td>\n",
       "      <td>412.750000</td>\n",
       "      <td>0.002674</td>\n",
       "      <td>0.000000</td>\n",
       "    </tr>\n",
       "    <tr>\n",
       "      <th>25%</th>\n",
       "      <td>20.200000</td>\n",
       "      <td>24.500000</td>\n",
       "      <td>0.000000</td>\n",
       "      <td>460.000000</td>\n",
       "      <td>0.003719</td>\n",
       "      <td>0.000000</td>\n",
       "    </tr>\n",
       "    <tr>\n",
       "      <th>50%</th>\n",
       "      <td>20.700000</td>\n",
       "      <td>27.290000</td>\n",
       "      <td>0.000000</td>\n",
       "      <td>565.416667</td>\n",
       "      <td>0.004292</td>\n",
       "      <td>0.000000</td>\n",
       "    </tr>\n",
       "    <tr>\n",
       "      <th>75%</th>\n",
       "      <td>21.525000</td>\n",
       "      <td>31.290000</td>\n",
       "      <td>301.000000</td>\n",
       "      <td>804.666667</td>\n",
       "      <td>0.004832</td>\n",
       "      <td>0.000000</td>\n",
       "    </tr>\n",
       "    <tr>\n",
       "      <th>max</th>\n",
       "      <td>24.408333</td>\n",
       "      <td>39.500000</td>\n",
       "      <td>1697.250000</td>\n",
       "      <td>2076.500000</td>\n",
       "      <td>0.006476</td>\n",
       "      <td>1.000000</td>\n",
       "    </tr>\n",
       "  </tbody>\n",
       "</table>\n",
       "</div>"
      ],
      "text/plain": [
       "        Temperature      Humidity         Light           CO2  HumidityRatio  \\\n",
       "count  20560.000000  20560.000000  20560.000000  20560.000000   20560.000000   \n",
       "mean      20.906212     27.655925    130.756622    690.553276       0.004228   \n",
       "std        1.055315      4.982154    210.430875    311.201281       0.000768   \n",
       "min       19.000000     16.745000      0.000000    412.750000       0.002674   \n",
       "25%       20.200000     24.500000      0.000000    460.000000       0.003719   \n",
       "50%       20.700000     27.290000      0.000000    565.416667       0.004292   \n",
       "75%       21.525000     31.290000    301.000000    804.666667       0.004832   \n",
       "max       24.408333     39.500000   1697.250000   2076.500000       0.006476   \n",
       "\n",
       "          Occupancy  \n",
       "count  20560.000000  \n",
       "mean       0.231031  \n",
       "std        0.421503  \n",
       "min        0.000000  \n",
       "25%        0.000000  \n",
       "50%        0.000000  \n",
       "75%        0.000000  \n",
       "max        1.000000  "
      ]
     },
     "execution_count": 5,
     "metadata": {},
     "output_type": "execute_result"
    }
   ],
   "source": [
    "df.describe()\n",
    "#Occupancy : need to check the imbalance between 0 and 1"
   ]
  },
  {
   "cell_type": "code",
   "execution_count": 6,
   "id": "9eeb5a79",
   "metadata": {
    "execution": {
     "iopub.execute_input": "2023-08-15T08:07:15.489125Z",
     "iopub.status.busy": "2023-08-15T08:07:15.488728Z",
     "iopub.status.idle": "2023-08-15T08:07:17.241728Z",
     "shell.execute_reply": "2023-08-15T08:07:17.240607Z"
    },
    "papermill": {
     "duration": 1.769088,
     "end_time": "2023-08-15T08:07:17.244516",
     "exception": false,
     "start_time": "2023-08-15T08:07:15.475428",
     "status": "completed"
    },
    "tags": []
   },
   "outputs": [
    {
     "name": "stderr",
     "output_type": "stream",
     "text": [
      "/opt/conda/lib/python3.10/site-packages/scipy/__init__.py:146: UserWarning: A NumPy version >=1.16.5 and <1.23.0 is required for this version of SciPy (detected version 1.23.5\n",
      "  warnings.warn(f\"A NumPy version >={np_minversion} and <{np_maxversion}\"\n",
      "/tmp/ipykernel_20/286883234.py:7: FutureWarning: The default value of numeric_only in DataFrame.corr is deprecated. In a future version, it will default to False. Select only valid columns or specify the value of numeric_only to silence this warning.\n",
      "  corr_matrix = df.corr().abs()\n"
     ]
    },
    {
     "data": {
      "text/plain": [
       "<Axes: >"
      ]
     },
     "execution_count": 6,
     "metadata": {},
     "output_type": "execute_result"
    },
    {
     "data": {
      "image/png": "[encoded data removed]",
      "text/plain": [
       "<Figure size 1000x1000 with 2 Axes>"
      ]
     },
     "metadata": {},
     "output_type": "display_data"
    }
   ],
   "source": [
    "import matplotlib.pyplot as plt\n",
    "import seaborn as sns\n",
    "import numpy as np\n",
    "\n",
    "plt.figure(figsize=(10,10))\n",
    "\n",
    "corr_matrix = df.corr().abs()\n",
    "up_mask = np.triu(np.ones(corr_matrix.shape), k=1).astype(np.bool_)\n",
    "\n",
    "sns.heatmap(corr_matrix, mask=up_mask, annot=True, fmt='.0%', square=True, cmap='viridis')\n",
    "\n",
    "#Strong correlation between 'Light' and 'Occupancy' / 'HumidityRatio' and 'Humidity'"
   ]
  },
  {
   "cell_type": "code",
   "execution_count": 7,
   "id": "a1e3e07b",
   "metadata": {
    "execution": {
     "iopub.execute_input": "2023-08-15T08:07:17.273234Z",
     "iopub.status.busy": "2023-08-15T08:07:17.272410Z",
     "iopub.status.idle": "2023-08-15T08:07:17.281394Z",
     "shell.execute_reply": "2023-08-15T08:07:17.280258Z"
    },
    "papermill": {
     "duration": 0.025952,
     "end_time": "2023-08-15T08:07:17.283681",
     "exception": false,
     "start_time": "2023-08-15T08:07:17.257729",
     "status": "completed"
    },
    "tags": []
   },
   "outputs": [
    {
     "data": {
      "text/plain": [
       "0    15810\n",
       "1     4750\n",
       "Name: Occupancy, dtype: int64"
      ]
     },
     "execution_count": 7,
     "metadata": {},
     "output_type": "execute_result"
    }
   ],
   "source": [
    "df.Occupancy.value_counts()\n",
    "#it might be necessary to oversample data"
   ]
  },
  {
   "cell_type": "code",
   "execution_count": 8,
   "id": "f948f796",
   "metadata": {
    "execution": {
     "iopub.execute_input": "2023-08-15T08:07:17.312535Z",
     "iopub.status.busy": "2023-08-15T08:07:17.311665Z",
     "iopub.status.idle": "2023-08-15T08:07:17.589556Z",
     "shell.execute_reply": "2023-08-15T08:07:17.588697Z"
    },
    "papermill": {
     "duration": 0.29444,
     "end_time": "2023-08-15T08:07:17.591680",
     "exception": false,
     "start_time": "2023-08-15T08:07:17.297240",
     "status": "completed"
    },
    "tags": []
   },
   "outputs": [
    {
     "data": {
      "text/plain": [
       "<Axes: >"
      ]
     },
     "execution_count": 8,
     "metadata": {},
     "output_type": "execute_result"
    },
    {
     "data": {
      "image/png": "[encoded data removed]",
      "text/plain": [
       "<Figure size 640x480 with 1 Axes>"
      ]
     },
     "metadata": {},
     "output_type": "display_data"
    }
   ],
   "source": [
    "sns.boxplot(df)\n",
    "#many outliers from 'Light' and 'CO2'"
   ]
  },
  {
   "cell_type": "code",
   "execution_count": 9,
   "id": "beb023d8",
   "metadata": {
    "execution": {
     "iopub.execute_input": "2023-08-15T08:07:17.621856Z",
     "iopub.status.busy": "2023-08-15T08:07:17.620914Z",
     "iopub.status.idle": "2023-08-15T08:07:18.252963Z",
     "shell.execute_reply": "2023-08-15T08:07:18.251792Z"
    },
    "papermill": {
     "duration": 0.649768,
     "end_time": "2023-08-15T08:07:18.255371",
     "exception": false,
     "start_time": "2023-08-15T08:07:17.605603",
     "status": "completed"
    },
    "tags": []
   },
   "outputs": [
    {
     "data": {
      "text/plain": [
       "<Axes: xlabel='Light', ylabel='Count'>"
      ]
     },
     "execution_count": 9,
     "metadata": {},
     "output_type": "execute_result"
    },
    {
     "data": {
      "image/png": "[encoded data removed]",
      "text/plain": [
       "<Figure size 640x480 with 1 Axes>"
      ]
     },
     "metadata": {},
     "output_type": "display_data"
    }
   ],
   "source": [
    "#Light's distribution\n",
    "sns.histplot(df.Light, kde=True)"
   ]
  },
  {
   "cell_type": "code",
   "execution_count": 10,
   "id": "d9a7f0bd",
   "metadata": {
    "execution": {
     "iopub.execute_input": "2023-08-15T08:07:18.285939Z",
     "iopub.status.busy": "2023-08-15T08:07:18.285530Z",
     "iopub.status.idle": "2023-08-15T08:07:18.294612Z",
     "shell.execute_reply": "2023-08-15T08:07:18.293528Z"
    },
    "papermill": {
     "duration": 0.026976,
     "end_time": "2023-08-15T08:07:18.296799",
     "exception": false,
     "start_time": "2023-08-15T08:07:18.269823",
     "status": "completed"
    },
    "tags": []
   },
   "outputs": [
    {
     "data": {
      "text/plain": [
       "7788"
      ]
     },
     "execution_count": 10,
     "metadata": {},
     "output_type": "execute_result"
    }
   ],
   "source": [
    "len(df[df.Light != 0])"
   ]
  },
  {
   "cell_type": "code",
   "execution_count": 11,
   "id": "77d4e347",
   "metadata": {
    "execution": {
     "iopub.execute_input": "2023-08-15T08:07:18.327542Z",
     "iopub.status.busy": "2023-08-15T08:07:18.327145Z",
     "iopub.status.idle": "2023-08-15T08:07:18.918648Z",
     "shell.execute_reply": "2023-08-15T08:07:18.917574Z"
    },
    "papermill": {
     "duration": 0.609706,
     "end_time": "2023-08-15T08:07:18.921220",
     "exception": false,
     "start_time": "2023-08-15T08:07:18.311514",
     "status": "completed"
    },
    "tags": []
   },
   "outputs": [
    {
     "data": {
      "text/plain": [
       "<Axes: xlabel='CO2', ylabel='Count'>"
      ]
     },
     "execution_count": 11,
     "metadata": {},
     "output_type": "execute_result"
    },
    {
     "data": {
      "image/png": "[encoded data removed]",
      "text/plain": [
       "<Figure size 640x480 with 1 Axes>"
      ]
     },
     "metadata": {},
     "output_type": "display_data"
    }
   ],
   "source": [
    "#CO2 : seems to be the log distribution\n",
    "sns.histplot(df.CO2, kde=True)"
   ]
  },
  {
   "cell_type": "markdown",
   "id": "0cb9e3ac",
   "metadata": {
    "papermill": {
     "duration": 0.014981,
     "end_time": "2023-08-15T08:07:18.951581",
     "exception": false,
     "start_time": "2023-08-15T08:07:18.936600",
     "status": "completed"
    },
    "tags": []
   },
   "source": [
    "### Preprocessing data"
   ]
  },
  {
   "cell_type": "code",
   "execution_count": 12,
   "id": "2d549727",
   "metadata": {
    "execution": {
     "iopub.execute_input": "2023-08-15T08:07:18.983726Z",
     "iopub.status.busy": "2023-08-15T08:07:18.983346Z",
     "iopub.status.idle": "2023-08-15T08:07:18.991189Z",
     "shell.execute_reply": "2023-08-15T08:07:18.990073Z"
    },
    "papermill": {
     "duration": 0.026582,
     "end_time": "2023-08-15T08:07:18.993304",
     "exception": false,
     "start_time": "2023-08-15T08:07:18.966722",
     "status": "completed"
    },
    "tags": []
   },
   "outputs": [],
   "source": [
    "#1. remove 'HumidityRatio' and 'date'\n",
    "df.drop(columns = 'HumidityRatio', inplace=True)\n",
    "df.drop(columns = 'date', inplace=True)"
   ]
  },
  {
   "cell_type": "code",
   "execution_count": 13,
   "id": "a8576e69",
   "metadata": {
    "execution": {
     "iopub.execute_input": "2023-08-15T08:07:19.025261Z",
     "iopub.status.busy": "2023-08-15T08:07:19.024784Z",
     "iopub.status.idle": "2023-08-15T08:07:19.031270Z",
     "shell.execute_reply": "2023-08-15T08:07:19.030297Z"
    },
    "papermill": {
     "duration": 0.025241,
     "end_time": "2023-08-15T08:07:19.033720",
     "exception": false,
     "start_time": "2023-08-15T08:07:19.008479",
     "status": "completed"
    },
    "tags": []
   },
   "outputs": [],
   "source": [
    "#2. CO2 log transformation\n",
    "df['CO2_log'] = np.log1p(df.CO2)"
   ]
  },
  {
   "cell_type": "code",
   "execution_count": 14,
   "id": "d5ce8aaf",
   "metadata": {
    "execution": {
     "iopub.execute_input": "2023-08-15T08:07:19.066405Z",
     "iopub.status.busy": "2023-08-15T08:07:19.066001Z",
     "iopub.status.idle": "2023-08-15T08:07:19.625397Z",
     "shell.execute_reply": "2023-08-15T08:07:19.624180Z"
    },
    "papermill": {
     "duration": 0.57877,
     "end_time": "2023-08-15T08:07:19.627908",
     "exception": false,
     "start_time": "2023-08-15T08:07:19.049138",
     "status": "completed"
    },
    "tags": []
   },
   "outputs": [
    {
     "data": {
      "text/plain": [
       "<Axes: xlabel='CO2_log', ylabel='Count'>"
      ]
     },
     "execution_count": 14,
     "metadata": {},
     "output_type": "execute_result"
    },
    {
     "data": {
      "image/png": "[encoded data removed]",
      "text/plain": [
       "<Figure size 640x480 with 1 Axes>"
      ]
     },
     "metadata": {},
     "output_type": "display_data"
    }
   ],
   "source": [
    "sns.histplot(df.CO2_log, kde=True)"
   ]
  },
  {
   "cell_type": "code",
   "execution_count": 15,
   "id": "7b65767a",
   "metadata": {
    "execution": {
     "iopub.execute_input": "2023-08-15T08:07:19.661431Z",
     "iopub.status.busy": "2023-08-15T08:07:19.661026Z",
     "iopub.status.idle": "2023-08-15T08:07:19.888609Z",
     "shell.execute_reply": "2023-08-15T08:07:19.887537Z"
    },
    "papermill": {
     "duration": 0.247275,
     "end_time": "2023-08-15T08:07:19.891123",
     "exception": false,
     "start_time": "2023-08-15T08:07:19.643848",
     "status": "completed"
    },
    "tags": []
   },
   "outputs": [
    {
     "data": {
      "text/plain": [
       "<Axes: xlabel='Light'>"
      ]
     },
     "execution_count": 15,
     "metadata": {},
     "output_type": "execute_result"
    },
    {
     "data": {
      "image/png": "[encoded data removed]",
      "text/plain": [
       "<Figure size 640x480 with 1 Axes>"
      ]
     },
     "metadata": {},
     "output_type": "display_data"
    }
   ],
   "source": [
    "#3. Do we have to remove the outliers of 'Light'?\n",
    "#'Light' has high correlation with the dependent variable, 'Occupancy'\n",
    "#dangerous to remove all the outliers\n",
    "sns.boxplot(x='Light', data = df)"
   ]
  },
  {
   "cell_type": "code",
   "execution_count": 16,
   "id": "ec872021",
   "metadata": {
    "execution": {
     "iopub.execute_input": "2023-08-15T08:07:19.924836Z",
     "iopub.status.busy": "2023-08-15T08:07:19.924458Z",
     "iopub.status.idle": "2023-08-15T08:07:19.948459Z",
     "shell.execute_reply": "2023-08-15T08:07:19.947490Z"
    },
    "papermill": {
     "duration": 0.043964,
     "end_time": "2023-08-15T08:07:19.951156",
     "exception": false,
     "start_time": "2023-08-15T08:07:19.907192",
     "status": "completed"
    },
    "tags": []
   },
   "outputs": [],
   "source": [
    "#Suggest new variable which is 1 when the light is turned on, 0 else\n",
    "df['Light_new'] = df.Light.apply(lambda x : 1 if x > 0 else 0)"
   ]
  },
  {
   "cell_type": "code",
   "execution_count": 17,
   "id": "704f75d6",
   "metadata": {
    "execution": {
     "iopub.execute_input": "2023-08-15T08:07:19.986171Z",
     "iopub.status.busy": "2023-08-15T08:07:19.985721Z",
     "iopub.status.idle": "2023-08-15T08:07:20.000401Z",
     "shell.execute_reply": "2023-08-15T08:07:19.999384Z"
    },
    "papermill": {
     "duration": 0.034861,
     "end_time": "2023-08-15T08:07:20.002606",
     "exception": false,
     "start_time": "2023-08-15T08:07:19.967745",
     "status": "completed"
    },
    "tags": []
   },
   "outputs": [
    {
     "data": {
      "text/html": [
       "<div>\n",
       "<style scoped>\n",
       "    .dataframe tbody tr th:only-of-type {\n",
       "        vertical-align: middle;\n",
       "    }\n",
       "\n",
       "    .dataframe tbody tr th {\n",
       "        vertical-align: top;\n",
       "    }\n",
       "\n",
       "    .dataframe thead th {\n",
       "        text-align: right;\n",
       "    }\n",
       "</style>\n",
       "<table border=\"1\" class=\"dataframe\">\n",
       "  <thead>\n",
       "    <tr style=\"text-align: right;\">\n",
       "      <th></th>\n",
       "      <th>Temperature</th>\n",
       "      <th>Humidity</th>\n",
       "      <th>Light</th>\n",
       "      <th>CO2</th>\n",
       "      <th>Occupancy</th>\n",
       "      <th>CO2_log</th>\n",
       "      <th>Light_new</th>\n",
       "    </tr>\n",
       "  </thead>\n",
       "  <tbody>\n",
       "    <tr>\n",
       "      <th>0</th>\n",
       "      <td>23.7000</td>\n",
       "      <td>26.272</td>\n",
       "      <td>585.200000</td>\n",
       "      <td>749.200000</td>\n",
       "      <td>1</td>\n",
       "      <td>6.620340</td>\n",
       "      <td>1</td>\n",
       "    </tr>\n",
       "    <tr>\n",
       "      <th>1</th>\n",
       "      <td>23.7180</td>\n",
       "      <td>26.290</td>\n",
       "      <td>578.400000</td>\n",
       "      <td>760.400000</td>\n",
       "      <td>1</td>\n",
       "      <td>6.635159</td>\n",
       "      <td>1</td>\n",
       "    </tr>\n",
       "    <tr>\n",
       "      <th>2</th>\n",
       "      <td>23.7300</td>\n",
       "      <td>26.230</td>\n",
       "      <td>572.666667</td>\n",
       "      <td>769.666667</td>\n",
       "      <td>1</td>\n",
       "      <td>6.647256</td>\n",
       "      <td>1</td>\n",
       "    </tr>\n",
       "    <tr>\n",
       "      <th>3</th>\n",
       "      <td>23.7225</td>\n",
       "      <td>26.125</td>\n",
       "      <td>493.750000</td>\n",
       "      <td>774.750000</td>\n",
       "      <td>1</td>\n",
       "      <td>6.653830</td>\n",
       "      <td>1</td>\n",
       "    </tr>\n",
       "    <tr>\n",
       "      <th>4</th>\n",
       "      <td>23.7540</td>\n",
       "      <td>26.200</td>\n",
       "      <td>488.600000</td>\n",
       "      <td>779.000000</td>\n",
       "      <td>1</td>\n",
       "      <td>6.659294</td>\n",
       "      <td>1</td>\n",
       "    </tr>\n",
       "  </tbody>\n",
       "</table>\n",
       "</div>"
      ],
      "text/plain": [
       "   Temperature  Humidity       Light         CO2  Occupancy   CO2_log  \\\n",
       "0      23.7000    26.272  585.200000  749.200000          1  6.620340   \n",
       "1      23.7180    26.290  578.400000  760.400000          1  6.635159   \n",
       "2      23.7300    26.230  572.666667  769.666667          1  6.647256   \n",
       "3      23.7225    26.125  493.750000  774.750000          1  6.653830   \n",
       "4      23.7540    26.200  488.600000  779.000000          1  6.659294   \n",
       "\n",
       "   Light_new  \n",
       "0          1  \n",
       "1          1  \n",
       "2          1  \n",
       "3          1  \n",
       "4          1  "
      ]
     },
     "execution_count": 17,
     "metadata": {},
     "output_type": "execute_result"
    }
   ],
   "source": [
    "df.head()"
   ]
  },
  {
   "cell_type": "markdown",
   "id": "b37d1204",
   "metadata": {
    "papermill": {
     "duration": 0.016313,
     "end_time": "2023-08-15T08:07:20.035674",
     "exception": false,
     "start_time": "2023-08-15T08:07:20.019361",
     "status": "completed"
    },
    "tags": []
   },
   "source": [
    "### Oversampling"
   ]
  },
  {
   "cell_type": "code",
   "execution_count": 18,
   "id": "a1eabc44",
   "metadata": {
    "execution": {
     "iopub.execute_input": "2023-08-15T08:07:20.071005Z",
     "iopub.status.busy": "2023-08-15T08:07:20.069878Z",
     "iopub.status.idle": "2023-08-15T08:07:20.344615Z",
     "shell.execute_reply": "2023-08-15T08:07:20.343422Z"
    },
    "papermill": {
     "duration": 0.295158,
     "end_time": "2023-08-15T08:07:20.347423",
     "exception": false,
     "start_time": "2023-08-15T08:07:20.052265",
     "status": "completed"
    },
    "tags": []
   },
   "outputs": [],
   "source": [
    "from sklearn.model_selection import train_test_split\n",
    "\n",
    "X_original  =df.drop(columns=['Occupancy','CO2','Light_new'])\n",
    "X_new = df.drop(columns = ['Occupancy','CO2','Light'])\n",
    "y =df['Occupancy']\n",
    "\n",
    "X_train_org , X_test_org , y_train_org, y_test_org  = train_test_split(X_original,y,stratify=y,random_state=1,test_size=0.3)\n",
    "X_train_new , X_test_new , y_train_new, y_test_new  = train_test_split(X_new,y,stratify=y,random_state=1,test_size=0.3)"
   ]
  },
  {
   "cell_type": "code",
   "execution_count": 19,
   "id": "46acf077",
   "metadata": {
    "execution": {
     "iopub.execute_input": "2023-08-15T08:07:20.383901Z",
     "iopub.status.busy": "2023-08-15T08:07:20.382711Z",
     "iopub.status.idle": "2023-08-15T08:07:21.096252Z",
     "shell.execute_reply": "2023-08-15T08:07:21.095251Z"
    },
    "papermill": {
     "duration": 0.733884,
     "end_time": "2023-08-15T08:07:21.098882",
     "exception": false,
     "start_time": "2023-08-15T08:07:20.364998",
     "status": "completed"
    },
    "tags": []
   },
   "outputs": [],
   "source": [
    "from imblearn.over_sampling import RandomOverSampler,SMOTE\n",
    "from sklearn.preprocessing import StandardScaler\n",
    "\n",
    "X_imb_org  = X_train_org.reset_index(drop=True).copy()\n",
    "y_imb_org  = y_train_org.reset_index(drop=True).copy()\n",
    "\n",
    "X_imb_new  = X_train_new.reset_index(drop=True).copy()\n",
    "y_imb_new  = y_train_new.reset_index(drop=True).copy()"
   ]
  },
  {
   "cell_type": "code",
   "execution_count": 20,
   "id": "93794d63",
   "metadata": {
    "execution": {
     "iopub.execute_input": "2023-08-15T08:07:21.134735Z",
     "iopub.status.busy": "2023-08-15T08:07:21.134239Z",
     "iopub.status.idle": "2023-08-15T08:07:21.164940Z",
     "shell.execute_reply": "2023-08-15T08:07:21.163702Z"
    },
    "papermill": {
     "duration": 0.052131,
     "end_time": "2023-08-15T08:07:21.168302",
     "exception": false,
     "start_time": "2023-08-15T08:07:21.116171",
     "status": "completed"
    },
    "tags": []
   },
   "outputs": [],
   "source": [
    "#Random Oversampling\n",
    "X_samp_org, y_samp_org = RandomOverSampler(random_state=1).fit_resample(X_imb_org,y_imb_org)\n",
    "samp_org = pd.concat([X_samp_org,y_samp_org],axis=1)\n",
    "\n",
    "X_samp_new, y_samp_new = RandomOverSampler(random_state=1).fit_resample(X_imb_new,y_imb_new)\n",
    "samp_new = pd.concat([X_samp_new,y_samp_new],axis=1)"
   ]
  },
  {
   "cell_type": "code",
   "execution_count": 21,
   "id": "93b8dbe2",
   "metadata": {
    "execution": {
     "iopub.execute_input": "2023-08-15T08:07:21.205165Z",
     "iopub.status.busy": "2023-08-15T08:07:21.203731Z",
     "iopub.status.idle": "2023-08-15T08:07:21.255624Z",
     "shell.execute_reply": "2023-08-15T08:07:21.254614Z"
    },
    "papermill": {
     "duration": 0.072642,
     "end_time": "2023-08-15T08:07:21.258225",
     "exception": false,
     "start_time": "2023-08-15T08:07:21.185583",
     "status": "completed"
    },
    "tags": []
   },
   "outputs": [],
   "source": [
    "#SMOTE\n",
    "X_smote_org, y_smote_org = SMOTE(random_state=1).fit_resample(X_imb_org,y_imb_org)\n",
    "smote_org = pd.concat([X_smote_org, y_smote_org],axis=1)\n",
    "\n",
    "X_smote_new, y_smote_new = SMOTE(random_state=1).fit_resample(X_imb_new,y_imb_new)\n",
    "smote_new = pd.concat([X_smote_new, y_smote_new],axis=1)"
   ]
  },
  {
   "cell_type": "code",
   "execution_count": 22,
   "id": "bb0e5c0a",
   "metadata": {
    "execution": {
     "iopub.execute_input": "2023-08-15T08:07:21.293587Z",
     "iopub.status.busy": "2023-08-15T08:07:21.292731Z",
     "iopub.status.idle": "2023-08-15T08:07:21.628976Z",
     "shell.execute_reply": "2023-08-15T08:07:21.627820Z"
    },
    "papermill": {
     "duration": 0.356504,
     "end_time": "2023-08-15T08:07:21.631470",
     "exception": false,
     "start_time": "2023-08-15T08:07:21.274966",
     "status": "completed"
    },
    "tags": []
   },
   "outputs": [
    {
     "data": {
      "text/plain": [
       "<matplotlib.collections.PathCollection at 0x7d86fd930ee0>"
      ]
     },
     "execution_count": 22,
     "metadata": {},
     "output_type": "execute_result"
    },
    {
     "data": {
      "image/png": "[encoded data removed]",
      "text/plain": [
       "<Figure size 1500x400 with 1 Axes>"
      ]
     },
     "metadata": {},
     "output_type": "display_data"
    }
   ],
   "source": [
    "plt.figure(figsize=(15,4))\n",
    "plt.title('RandomSampling_org')\n",
    "plt.scatter(samp_org['CO2_log'],samp_org['Occupancy'].astype('str'),s=0.03)"
   ]
  },
  {
   "cell_type": "code",
   "execution_count": 23,
   "id": "23dea48e",
   "metadata": {
    "execution": {
     "iopub.execute_input": "2023-08-15T08:07:21.668142Z",
     "iopub.status.busy": "2023-08-15T08:07:21.667385Z",
     "iopub.status.idle": "2023-08-15T08:07:21.986363Z",
     "shell.execute_reply": "2023-08-15T08:07:21.985202Z"
    },
    "papermill": {
     "duration": 0.340372,
     "end_time": "2023-08-15T08:07:21.988978",
     "exception": false,
     "start_time": "2023-08-15T08:07:21.648606",
     "status": "completed"
    },
    "tags": []
   },
   "outputs": [
    {
     "data": {
      "text/plain": [
       "<matplotlib.collections.PathCollection at 0x7d86fc5b4430>"
      ]
     },
     "execution_count": 23,
     "metadata": {},
     "output_type": "execute_result"
    },
    {
     "data": {
      "image/png": "[encoded data removed]",
      "text/plain": [
       "<Figure size 1500x400 with 1 Axes>"
      ]
     },
     "metadata": {},
     "output_type": "display_data"
    }
   ],
   "source": [
    "plt.figure(figsize=(15,4))\n",
    "plt.title('SMOTE_org')\n",
    "plt.scatter(smote_org['CO2_log'],smote_org['Occupancy'].astype('str'),s=0.03)"
   ]
  },
  {
   "cell_type": "code",
   "execution_count": 24,
   "id": "a377d2f2",
   "metadata": {
    "execution": {
     "iopub.execute_input": "2023-08-15T08:07:22.027983Z",
     "iopub.status.busy": "2023-08-15T08:07:22.027549Z",
     "iopub.status.idle": "2023-08-15T08:07:22.298775Z",
     "shell.execute_reply": "2023-08-15T08:07:22.297475Z"
    },
    "papermill": {
     "duration": 0.293515,
     "end_time": "2023-08-15T08:07:22.301192",
     "exception": false,
     "start_time": "2023-08-15T08:07:22.007677",
     "status": "completed"
    },
    "tags": []
   },
   "outputs": [
    {
     "data": {
      "text/plain": [
       "<matplotlib.collections.PathCollection at 0x7d86fc8988e0>"
      ]
     },
     "execution_count": 24,
     "metadata": {},
     "output_type": "execute_result"
    },
    {
     "data": {
      "image/png": "[encoded data removed]",
      "text/plain": [
       "<Figure size 1500x400 with 1 Axes>"
      ]
     },
     "metadata": {},
     "output_type": "display_data"
    }
   ],
   "source": [
    "plt.figure(figsize=(15,4))\n",
    "plt.title('RandomSampling_new')\n",
    "plt.scatter(samp_new['CO2_log'],samp_new['Occupancy'].astype('str'),s=0.03)"
   ]
  },
  {
   "cell_type": "code",
   "execution_count": 25,
   "id": "7c717bfb",
   "metadata": {
    "execution": {
     "iopub.execute_input": "2023-08-15T08:07:22.339856Z",
     "iopub.status.busy": "2023-08-15T08:07:22.339171Z",
     "iopub.status.idle": "2023-08-15T08:07:22.597168Z",
     "shell.execute_reply": "2023-08-15T08:07:22.596099Z"
    },
    "papermill": {
     "duration": 0.280092,
     "end_time": "2023-08-15T08:07:22.599493",
     "exception": false,
     "start_time": "2023-08-15T08:07:22.319401",
     "status": "completed"
    },
    "tags": []
   },
   "outputs": [
    {
     "data": {
      "text/plain": [
       "<matplotlib.collections.PathCollection at 0x7d86fc91e290>"
      ]
     },
     "execution_count": 25,
     "metadata": {},
     "output_type": "execute_result"
    },
    {
     "data": {
      "image/png": "[encoded data removed]",
      "text/plain": [
       "<Figure size 1500x400 with 1 Axes>"
      ]
     },
     "metadata": {},
     "output_type": "display_data"
    }
   ],
   "source": [
    "plt.figure(figsize=(15,4))\n",
    "plt.title('SMOTE_new')\n",
    "plt.scatter(smote_new['CO2_log'],smote_new['Occupancy'].astype('str'),s=0.03)"
   ]
  },
  {
   "cell_type": "markdown",
   "id": "edced28a",
   "metadata": {
    "papermill": {
     "duration": 0.018967,
     "end_time": "2023-08-15T08:07:22.637760",
     "exception": false,
     "start_time": "2023-08-15T08:07:22.618793",
     "status": "completed"
    },
    "tags": []
   },
   "source": [
    "### Modeling\n",
    " - Logistic Regression & LightGBM"
   ]
  },
  {
   "cell_type": "code",
   "execution_count": 26,
   "id": "4f4f0090",
   "metadata": {
    "execution": {
     "iopub.execute_input": "2023-08-15T08:07:22.678111Z",
     "iopub.status.busy": "2023-08-15T08:07:22.677221Z",
     "iopub.status.idle": "2023-08-15T08:07:22.689257Z",
     "shell.execute_reply": "2023-08-15T08:07:22.688116Z"
    },
    "papermill": {
     "duration": 0.034905,
     "end_time": "2023-08-15T08:07:22.691614",
     "exception": false,
     "start_time": "2023-08-15T08:07:22.656709",
     "status": "completed"
    },
    "tags": []
   },
   "outputs": [],
   "source": [
    "def label_mapping(x) :\n",
    "    if x == 1 :\n",
    "        return 0\n",
    "    elif x== -1 :\n",
    "        return 1\n",
    "    else :\n",
    "        return x\n",
    "\n",
    "#Evaluation Function\n",
    "\n",
    "from sklearn.metrics import accuracy_score, precision_score, recall_score, f1_score, roc_auc_score\n",
    "import time\n",
    "from sklearn.preprocessing import StandardScaler\n",
    "import numpy as np\n",
    "import pandas as pd\n",
    "\n",
    "def evaluate_model(model, train_x, train_y, test_x, test_y):\n",
    "    \n",
    "    x_train_copy = train_x.copy()\n",
    "    y_train_copy = train_y.copy()\n",
    "    x_test_copy = test_x.copy()\n",
    "    y_test_copy = test_y.copy()\n",
    "    \n",
    "    start = time.time()\n",
    "    model.fit(x_train_copy, y_train_copy)\n",
    "    end = time.time() - start\n",
    "    \n",
    "    pred = model.predict(x_test_copy)\n",
    "    \n",
    "    from sklearn.ensemble import IsolationForest\n",
    "    if isinstance(model, IsolationForest) :\n",
    "        pred = np.array(list(map(label_mapping, pred)))\n",
    "\n",
    "    # calculate metrics\n",
    "    accuracy_test = accuracy_score(y_test_copy, pred)\n",
    "    precision_test= precision_score(y_test_copy, pred)\n",
    "    recall_test = recall_score(y_test_copy, pred)\n",
    "    f1_test = f1_score(y_test_copy, pred)\n",
    "    auc_test = roc_auc_score(y_test_copy, pred)\n",
    "    \n",
    "    rt_tuple = np.array([accuracy_test, precision_test, recall_test, \\\n",
    "                f1_test, auc_test, end])\n",
    "    rt_arr = np.array(rt_tuple).reshape(1, -1)\n",
    "#     rt_arr = rt_tuple\n",
    "    return pd.DataFrame(rt_arr, columns=['accuracy', 'precision', 'recall' \\\n",
    "                                        , 'f1', 'auc', 'time'])"
   ]
  },
  {
   "cell_type": "code",
   "execution_count": 27,
   "id": "77a67ab9",
   "metadata": {
    "execution": {
     "iopub.execute_input": "2023-08-15T08:07:22.731142Z",
     "iopub.status.busy": "2023-08-15T08:07:22.730671Z",
     "iopub.status.idle": "2023-08-15T08:07:22.776962Z",
     "shell.execute_reply": "2023-08-15T08:07:22.775546Z"
    },
    "papermill": {
     "duration": 0.069397,
     "end_time": "2023-08-15T08:07:22.779870",
     "exception": false,
     "start_time": "2023-08-15T08:07:22.710473",
     "status": "completed"
    },
    "tags": []
   },
   "outputs": [],
   "source": [
    "#Scaling\n",
    "from sklearn.preprocessing import StandardScaler\n",
    "ss_org = StandardScaler()\n",
    "ss_new = StandardScaler()\n",
    "ss_samp_org = StandardScaler()\n",
    "ss_samp_new = StandardScaler()\n",
    "ss_smote_org = StandardScaler()\n",
    "ss_smote_new = StandardScaler()\n",
    "\n",
    "#X_train에 대하여 scaler적용\n",
    "X_imb_org_ss = ss_org.fit_transform(X_imb_org)\n",
    "X_test_org_ss = ss_org.transform(X_test_org)\n",
    "\n",
    "X_imb_new_ss = ss_new.fit_transform(X_imb_new)\n",
    "X_test_new_ss = ss_new.transform(X_test_new)\n",
    "\n",
    "X_samp_org_ss = ss_samp_org.fit_transform(X_samp_org)\n",
    "X_test_samp_org_ss = ss_samp_org.transform(X_test_org)\n",
    "\n",
    "X_samp_new_ss = ss_samp_new.fit_transform(X_samp_new)\n",
    "X_test_samp_new_ss = ss_samp_new.transform(X_test_new)\n",
    "\n",
    "X_smote_org_ss = ss_smote_org.fit_transform(X_smote_org)\n",
    "X_test_smote_org_ss = ss_smote_org.transform(X_test_org)\n",
    "\n",
    "X_smote_new_ss = ss_smote_new.fit_transform(X_smote_new)\n",
    "X_test_smote_new_ss = ss_smote_new.transform(X_test_new)"
   ]
  },
  {
   "cell_type": "code",
   "execution_count": 28,
   "id": "eb0f554a",
   "metadata": {
    "execution": {
     "iopub.execute_input": "2023-08-15T08:07:22.820202Z",
     "iopub.status.busy": "2023-08-15T08:07:22.819423Z",
     "iopub.status.idle": "2023-08-15T08:07:28.135107Z",
     "shell.execute_reply": "2023-08-15T08:07:28.134136Z"
    },
    "papermill": {
     "duration": 5.338974,
     "end_time": "2023-08-15T08:07:28.137707",
     "exception": false,
     "start_time": "2023-08-15T08:07:22.798733",
     "status": "completed"
    },
    "tags": []
   },
   "outputs": [],
   "source": [
    "from sklearn.linear_model import LogisticRegression\n",
    "from lightgbm import LGBMClassifier\n",
    "\n",
    "lr = LogisticRegression(random_state=1)\n",
    "lgbm = LGBMClassifier(random_state=1)\n",
    "\n",
    "# LR \n",
    "lr_org = evaluate_model(lr, X_imb_org_ss, y_imb_org, X_test_org_ss, y_test_org)\n",
    "lr_samp = evaluate_model(lr, X_samp_org_ss, y_samp_org, X_test_samp_org_ss, y_test_org)\n",
    "lr_smote = evaluate_model(lr, X_smote_org_ss, y_smote_org, X_test_smote_org_ss, y_test_org)\n",
    "\n",
    "lr_org_new = evaluate_model(lr, X_imb_new_ss, y_imb_new, X_test_new_ss, y_test_new)\n",
    "lr_samp_new = evaluate_model(lr, X_samp_new_ss, y_samp_new, X_test_samp_new_ss, y_test_new)\n",
    "lr_smote_new = evaluate_model(lr, X_smote_new_ss, y_smote_new, X_test_smote_new_ss, y_test_new)\n",
    "\n",
    "# LGBM \n",
    "lgbm_org = evaluate_model(lgbm, X_imb_org_ss, y_imb_org, X_test_org_ss, y_test_org)\n",
    "lgbm_samp = evaluate_model(lgbm, X_samp_org_ss, y_samp_org, X_test_samp_org_ss, y_test_org)\n",
    "lgbm_smote = evaluate_model(lgbm, X_smote_org_ss, y_smote_org, X_test_smote_org_ss, y_test_org)\n",
    "\n",
    "lgbm_org_new = evaluate_model(lgbm, X_imb_new_ss, y_imb_new, X_test_new_ss, y_test_new)\n",
    "lgbm_samp_new = evaluate_model(lgbm, X_samp_new_ss, y_samp_new, X_test_samp_new_ss, y_test_new)\n",
    "lgbm_smote_new = evaluate_model(lgbm, X_smote_new_ss, y_smote_new, X_test_smote_new_ss, y_test_new)"
   ]
  },
  {
   "cell_type": "code",
   "execution_count": 29,
   "id": "82e6fc6a",
   "metadata": {
    "execution": {
     "iopub.execute_input": "2023-08-15T08:07:28.178306Z",
     "iopub.status.busy": "2023-08-15T08:07:28.177785Z",
     "iopub.status.idle": "2023-08-15T08:07:28.195507Z",
     "shell.execute_reply": "2023-08-15T08:07:28.194751Z"
    },
    "papermill": {
     "duration": 0.040064,
     "end_time": "2023-08-15T08:07:28.197603",
     "exception": false,
     "start_time": "2023-08-15T08:07:28.157539",
     "status": "completed"
    },
    "tags": []
   },
   "outputs": [
    {
     "data": {
      "text/html": [
       "<div>\n",
       "<style scoped>\n",
       "    .dataframe tbody tr th:only-of-type {\n",
       "        vertical-align: middle;\n",
       "    }\n",
       "\n",
       "    .dataframe tbody tr th {\n",
       "        vertical-align: top;\n",
       "    }\n",
       "\n",
       "    .dataframe thead th {\n",
       "        text-align: right;\n",
       "    }\n",
       "</style>\n",
       "<table border=\"1\" class=\"dataframe\">\n",
       "  <thead>\n",
       "    <tr style=\"text-align: right;\">\n",
       "      <th></th>\n",
       "      <th>accuracy</th>\n",
       "      <th>precision</th>\n",
       "      <th>recall</th>\n",
       "      <th>f1</th>\n",
       "      <th>auc</th>\n",
       "      <th>time</th>\n",
       "    </tr>\n",
       "  </thead>\n",
       "  <tbody>\n",
       "    <tr>\n",
       "      <th>lr_org</th>\n",
       "      <td>0.989786</td>\n",
       "      <td>0.963265</td>\n",
       "      <td>0.993684</td>\n",
       "      <td>0.978238</td>\n",
       "      <td>0.991150</td>\n",
       "      <td>0.027122</td>\n",
       "    </tr>\n",
       "    <tr>\n",
       "      <th>lr_samp</th>\n",
       "      <td>0.989948</td>\n",
       "      <td>0.960784</td>\n",
       "      <td>0.997193</td>\n",
       "      <td>0.978650</td>\n",
       "      <td>0.992482</td>\n",
       "      <td>0.040542</td>\n",
       "    </tr>\n",
       "    <tr>\n",
       "      <th>lr_smote</th>\n",
       "      <td>0.989948</td>\n",
       "      <td>0.960784</td>\n",
       "      <td>0.997193</td>\n",
       "      <td>0.978650</td>\n",
       "      <td>0.992482</td>\n",
       "      <td>0.040595</td>\n",
       "    </tr>\n",
       "    <tr>\n",
       "      <th>lr_org_new</th>\n",
       "      <td>0.936446</td>\n",
       "      <td>0.880059</td>\n",
       "      <td>0.839298</td>\n",
       "      <td>0.859195</td>\n",
       "      <td>0.902466</td>\n",
       "      <td>0.045935</td>\n",
       "    </tr>\n",
       "    <tr>\n",
       "      <th>lr_samp_new</th>\n",
       "      <td>0.935149</td>\n",
       "      <td>0.790040</td>\n",
       "      <td>0.979649</td>\n",
       "      <td>0.874687</td>\n",
       "      <td>0.950714</td>\n",
       "      <td>0.117373</td>\n",
       "    </tr>\n",
       "    <tr>\n",
       "      <th>lr_smote_new</th>\n",
       "      <td>0.934825</td>\n",
       "      <td>0.790130</td>\n",
       "      <td>0.977544</td>\n",
       "      <td>0.873902</td>\n",
       "      <td>0.949767</td>\n",
       "      <td>0.067457</td>\n",
       "    </tr>\n",
       "    <tr>\n",
       "      <th>lgbm_org</th>\n",
       "      <td>0.993353</td>\n",
       "      <td>0.982566</td>\n",
       "      <td>0.988772</td>\n",
       "      <td>0.985659</td>\n",
       "      <td>0.991751</td>\n",
       "      <td>0.668846</td>\n",
       "    </tr>\n",
       "    <tr>\n",
       "      <th>lgbm_samp</th>\n",
       "      <td>0.993191</td>\n",
       "      <td>0.979875</td>\n",
       "      <td>0.990877</td>\n",
       "      <td>0.985345</td>\n",
       "      <td>0.992381</td>\n",
       "      <td>0.580499</td>\n",
       "    </tr>\n",
       "    <tr>\n",
       "      <th>lgbm_smote</th>\n",
       "      <td>0.993191</td>\n",
       "      <td>0.979875</td>\n",
       "      <td>0.990877</td>\n",
       "      <td>0.985345</td>\n",
       "      <td>0.992381</td>\n",
       "      <td>0.564181</td>\n",
       "    </tr>\n",
       "    <tr>\n",
       "      <th>lgbm_org_new</th>\n",
       "      <td>0.991732</td>\n",
       "      <td>0.977747</td>\n",
       "      <td>0.986667</td>\n",
       "      <td>0.982187</td>\n",
       "      <td>0.989960</td>\n",
       "      <td>0.534375</td>\n",
       "    </tr>\n",
       "    <tr>\n",
       "      <th>lgbm_samp_new</th>\n",
       "      <td>0.991245</td>\n",
       "      <td>0.971134</td>\n",
       "      <td>0.991579</td>\n",
       "      <td>0.981250</td>\n",
       "      <td>0.991362</td>\n",
       "      <td>0.585633</td>\n",
       "    </tr>\n",
       "    <tr>\n",
       "      <th>lgbm_smote_new</th>\n",
       "      <td>0.990435</td>\n",
       "      <td>0.965259</td>\n",
       "      <td>0.994386</td>\n",
       "      <td>0.979606</td>\n",
       "      <td>0.991817</td>\n",
       "      <td>0.571588</td>\n",
       "    </tr>\n",
       "  </tbody>\n",
       "</table>\n",
       "</div>"
      ],
      "text/plain": [
       "                accuracy  precision    recall        f1       auc      time\n",
       "lr_org          0.989786   0.963265  0.993684  0.978238  0.991150  0.027122\n",
       "lr_samp         0.989948   0.960784  0.997193  0.978650  0.992482  0.040542\n",
       "lr_smote        0.989948   0.960784  0.997193  0.978650  0.992482  0.040595\n",
       "lr_org_new      0.936446   0.880059  0.839298  0.859195  0.902466  0.045935\n",
       "lr_samp_new     0.935149   0.790040  0.979649  0.874687  0.950714  0.117373\n",
       "lr_smote_new    0.934825   0.790130  0.977544  0.873902  0.949767  0.067457\n",
       "lgbm_org        0.993353   0.982566  0.988772  0.985659  0.991751  0.668846\n",
       "lgbm_samp       0.993191   0.979875  0.990877  0.985345  0.992381  0.580499\n",
       "lgbm_smote      0.993191   0.979875  0.990877  0.985345  0.992381  0.564181\n",
       "lgbm_org_new    0.991732   0.977747  0.986667  0.982187  0.989960  0.534375\n",
       "lgbm_samp_new   0.991245   0.971134  0.991579  0.981250  0.991362  0.585633\n",
       "lgbm_smote_new  0.990435   0.965259  0.994386  0.979606  0.991817  0.571588"
      ]
     },
     "metadata": {},
     "output_type": "display_data"
    }
   ],
   "source": [
    "df_result = pd.concat([lr_org, lr_samp, lr_smote, lr_org_new, lr_samp_new, lr_smote_new,\n",
    "                      lgbm_org, lgbm_samp, lgbm_smote, lgbm_org_new, lgbm_samp_new, lgbm_smote_new], axis=0)\n",
    "df_result.index=['lr_org', 'lr_samp', 'lr_smote', 'lr_org_new', 'lr_samp_new', 'lr_smote_new',\n",
    "                      'lgbm_org', 'lgbm_samp', 'lgbm_smote', 'lgbm_org_new', 'lgbm_samp_new', 'lgbm_smote_new']\n",
    "display(df_result)"
   ]
  },
  {
   "cell_type": "markdown",
   "id": "7baf3206",
   "metadata": {
    "papermill": {
     "duration": 0.019069,
     "end_time": "2023-08-15T08:07:28.235725",
     "exception": false,
     "start_time": "2023-08-15T08:07:28.216656",
     "status": "completed"
    },
    "tags": []
   },
   "source": [
    "In terms of accuracy, lightGBM is the better choice, while LR is better when time is considered.\n",
    "New model ('Light' variable changed to 0 and 1) is worse than the original among all types of models.\n",
    "If 'time' is not the most important value, 'lightGBM with random oversampling' might be the best option."
   ]
  },
  {
   "cell_type": "code",
   "execution_count": 30,
   "id": "553da9ec",
   "metadata": {
    "execution": {
     "iopub.execute_input": "2023-08-15T08:07:28.279171Z",
     "iopub.status.busy": "2023-08-15T08:07:28.276985Z",
     "iopub.status.idle": "2023-08-15T08:07:29.158318Z",
     "shell.execute_reply": "2023-08-15T08:07:29.156555Z"
    },
    "papermill": {
     "duration": 0.904896,
     "end_time": "2023-08-15T08:07:29.161128",
     "exception": false,
     "start_time": "2023-08-15T08:07:28.256232",
     "status": "completed"
    },
    "tags": []
   },
   "outputs": [
    {
     "data": {
      "text/plain": [
       "<Axes: title={'center': 'Feature importance'}, xlabel='Feature importance', ylabel='Features'>"
      ]
     },
     "execution_count": 30,
     "metadata": {},
     "output_type": "execute_result"
    },
    {
     "data": {
      "image/png": "[encoded data removed]",
      "text/plain": [
       "<Figure size 640x480 with 1 Axes>"
      ]
     },
     "metadata": {},
     "output_type": "display_data"
    }
   ],
   "source": [
    "from lightgbm import plot_importance\n",
    "\n",
    "\n",
    "X_samp_org_ss = ss_samp_org.fit_transform(X_samp_org)\n",
    "X_test_samp_org_ss = ss_samp_org.transform(X_test_org)\n",
    "X_samp_org_ss = pd.DataFrame(X_samp_org_ss, columns = X_samp_org.columns)\n",
    "X_test_samp_org_ss = pd.DataFrame(X_test_samp_org_ss, columns = X_test_org.columns)\n",
    "\n",
    "evaluate_model(lgbm, X_samp_org_ss, y_samp_org, X_test_samp_org_ss, y_test_org)\n",
    "plot_importance(lgbm)"
   ]
  },
  {
   "cell_type": "markdown",
   "id": "701f7054",
   "metadata": {
    "papermill": {
     "duration": 0.028615,
     "end_time": "2023-08-15T08:07:29.212175",
     "exception": false,
     "start_time": "2023-08-15T08:07:29.183560",
     "status": "completed"
    },
    "tags": []
   },
   "source": [
    "Already checked doing EDA, Light is the most important variable. There is not much difference between the feature importances of CO2 and Temperature."
   ]
  }
 ],
 "metadata": {
  "kernelspec": {
   "display_name": "Python 3",
   "language": "python",
   "name": "python3"
  },
  "language_info": {
   "codemirror_mode": {
    "name": "ipython",
    "version": 3
   },
   "file_extension": ".py",
   "mimetype": "text/x-python",
   "name": "python",
   "nbconvert_exporter": "python",
   "pygments_lexer": "ipython3",
   "version": "3.10.12"
  },
  "papermill": {
   "default_parameters": {},
   "duration": 26.144841,
   "end_time": "2023-08-15T08:07:30.565868",
   "environment_variables": {},
   "exception": null,
   "input_path": "__notebook__.ipynb",
   "output_path": "__notebook__.ipynb",
   "parameters": {},
   "start_time": "2023-08-15T08:07:04.421027",
   "version": "2.4.0"
  }
 },
 "nbformat": 4,
 "nbformat_minor": 5
}
